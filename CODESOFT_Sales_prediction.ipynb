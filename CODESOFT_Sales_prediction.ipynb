{
  "nbformat": 4,
  "nbformat_minor": 0,
  "metadata": {
    "colab": {
      "private_outputs": true,
      "provenance": [],
      "authorship_tag": "ABX9TyNmbAq3Zi42Um6kyvM4ITBG",
      "include_colab_link": true
    },
    "kernelspec": {
      "name": "python3",
      "display_name": "Python 3"
    },
    "language_info": {
      "name": "python"
    }
  },
  "cells": [
    {
      "cell_type": "markdown",
      "metadata": {
        "id": "view-in-github",
        "colab_type": "text"
      },
      "source": [
        "<a href=\"https://colab.research.google.com/github/MansiKaushik123/CODESOFT--Sales-prediction/blob/main/CODESOFT_Sales_prediction.ipynb\" target=\"_parent\"><img src=\"https://colab.research.google.com/assets/colab-badge.svg\" alt=\"Open In Colab\"/></a>"
      ]
    },
    {
      "cell_type": "markdown",
      "source": [
        "# **codsoft data science internship**\n",
        "\n",
        "**Name : Mansi kaushik**\n",
        "\n",
        "**Batch : JULY BATCH A61**\n",
        "\n",
        "**Domain : Data science**"
      ],
      "metadata": {
        "id": "noLgbgvFWaK-"
      }
    },
    {
      "cell_type": "markdown",
      "source": [
        "# **Task : Sales Prediction**\n",
        "\n",
        "Sales prediction involves forecasting the amount of a product that\n",
        "customers will purchase, taking into account various factors such as\n",
        "advertising expenditure, target audience segmentation, and\n",
        "advertising platform selection.\n",
        "\n",
        "In businesses that offer products or services, the role of a Data\n",
        "Scientist is crucial for predicting future sales. They utilize machine\n",
        "learning techniques in Python to analyze and interpret data, allowing\n",
        "them to make informed decisions regarding advertising costs. By\n",
        "leveraging these predictions, businesses can optimize their\n",
        "advertising strategies and maximize sales potential. Let'\n",
        "\n",
        "s embark on\n",
        "\n",
        "the journey of sales prediction using machine learning in Python."
      ],
      "metadata": {
        "id": "sHR91QUDW8jE"
      }
    },
    {
      "cell_type": "markdown",
      "source": [
        "# **GitHub Link -**\n",
        "\n",
        "**Provide your GitHub Link here**:https://github.com/MansiKaushik123/CODESOFT--Sales-prediction"
      ],
      "metadata": {
        "id": "dmFU62hUWtgq"
      }
    },
    {
      "cell_type": "markdown",
      "source": [
        "# **Let's Begin !**"
      ],
      "metadata": {
        "id": "IBNNxl8mXnHI"
      }
    },
    {
      "cell_type": "markdown",
      "source": [
        "# Import Libraries"
      ],
      "metadata": {
        "id": "nLCPLuq3Xrew"
      }
    },
    {
      "cell_type": "code",
      "execution_count": null,
      "metadata": {
        "id": "7wpWYKKDp0X0"
      },
      "outputs": [],
      "source": [
        "# import the necessary dependencies\n",
        "import pandas as pd\n",
        "import numpy as np\n",
        "import matplotlib.pyplot as plt\n",
        "import seaborn as sns"
      ]
    },
    {
      "cell_type": "code",
      "source": [
        "dataset = pd.read_csv('/content/advertising (2).csv')"
      ],
      "metadata": {
        "id": "CLZ8VGPOqVYG"
      },
      "execution_count": null,
      "outputs": []
    },
    {
      "cell_type": "code",
      "source": [
        "dataset.head()"
      ],
      "metadata": {
        "id": "PiPHIM8MqgUi"
      },
      "execution_count": null,
      "outputs": []
    },
    {
      "cell_type": "code",
      "source": [
        "dataset.tail()"
      ],
      "metadata": {
        "id": "JJVYta2_qjHs"
      },
      "execution_count": null,
      "outputs": []
    },
    {
      "cell_type": "code",
      "source": [
        "dataset.shape"
      ],
      "metadata": {
        "id": "og6oWyVmqoKu"
      },
      "execution_count": null,
      "outputs": []
    },
    {
      "cell_type": "code",
      "source": [
        "dataset.describe()"
      ],
      "metadata": {
        "id": "5epInNDXqrf5"
      },
      "execution_count": null,
      "outputs": []
    },
    {
      "cell_type": "code",
      "source": [
        "dataset.isnull().sum()"
      ],
      "metadata": {
        "id": "7BOY_52vqxiz"
      },
      "execution_count": null,
      "outputs": []
    },
    {
      "cell_type": "code",
      "source": [
        "# detecting outliers\n",
        "fig, axs = plt.subplots(3, figsize = (5,5))\n",
        "plt1 = sns.boxplot(x = dataset['TV'], ax=axs[0], notch=True, showcaps=False,\n",
        "    flierprops={\"marker\": \"x\"},\n",
        "    boxprops={\"facecolor\": (.4, .6, .8, .5)},\n",
        "    medianprops={\"color\": \"red\"})\n",
        "plt2 = sns.boxplot(x = dataset['Radio'],ax=axs[1], notch=True, showcaps=False,\n",
        "    flierprops={\"marker\": \"x\"},\n",
        "    boxprops={\"facecolor\": (.4, .6, .8, .3)},\n",
        "    medianprops={\"color\": \"red\"})\n",
        "plt3 = sns.boxplot(x = dataset['Newspaper'],ax=axs[2], notch=True, showcaps=False,\n",
        "    flierprops={\"marker\": \"x\"},\n",
        "    boxprops={\"facecolor\": (.4, .6, .8, .2)},\n",
        "    medianprops={\"color\": \"red\"})\n",
        "\n",
        "plt.tight_layout()"
      ],
      "metadata": {
        "id": "blUPJxczq_m1"
      },
      "execution_count": null,
      "outputs": []
    },
    {
      "cell_type": "markdown",
      "source": [
        "**we see their are no significant outliers present in the data**"
      ],
      "metadata": {
        "id": "PToDvER7rSMe"
      }
    },
    {
      "cell_type": "markdown",
      "source": [
        "# **EDA**"
      ],
      "metadata": {
        "id": "zxDkFA05rYRg"
      }
    },
    {
      "cell_type": "code",
      "source": [
        "# target variable\n",
        "sns.boxplot(x= dataset['Sales'],  notch = True, showcaps=False,\n",
        "    flierprops={\"marker\": \"x\"},\n",
        "    boxprops={\"facecolor\": (.4, .6, .8, .5)},\n",
        "    medianprops={\"color\": \"coral\"})\n",
        "plt.show()"
      ],
      "metadata": {
        "id": "-DeJsCURrWEy"
      },
      "execution_count": null,
      "outputs": []
    },
    {
      "cell_type": "code",
      "source": [
        "# visualize correlation of our target variable with other features\n",
        "corr = dataset.corr()\n",
        "sns.heatmap(corr, annot= True, cmap = 'summer')\n",
        "plt.show()"
      ],
      "metadata": {
        "id": "DkYRrPxvrmmo"
      },
      "execution_count": null,
      "outputs": []
    },
    {
      "cell_type": "code",
      "source": [
        "# use scatterplot to see how sales is relaated to the other variables\n",
        "sns.pairplot(dataset, x_vars = ['TV','Radio','Newspaper'], y_vars=['Sales'], kind = 'scatter', aspect = 1, height = 4)"
      ],
      "metadata": {
        "id": "8Km3gubYry_f"
      },
      "execution_count": null,
      "outputs": []
    },
    {
      "cell_type": "code",
      "source": [
        "sns.pairplot(dataset, kind = 'scatter', aspect = 1, height = 4, palette = 'hls', hue='Sales')"
      ],
      "metadata": {
        "id": "ZuBY0VUor7WY"
      },
      "execution_count": null,
      "outputs": []
    },
    {
      "cell_type": "markdown",
      "source": [
        "The visualizations clearly show that TV advertisement expenditure has the most significant positive impact on the sales target."
      ],
      "metadata": {
        "id": "64vSBIuesb24"
      }
    },
    {
      "cell_type": "markdown",
      "source": [
        "# **Model Building**\n",
        "\n",
        "\n",
        "**To predict sales, we'll use simple linear regression with TV as our feature variable. The equation for linear regression is: y = c + m1.x1 + m2.x2 + ... + mn.xn. In this equation, y is the target variable, c is the intercept, and m1, m2, ..., mn are the weights corresponding to the feature variables x1, x2, ..., xn.**"
      ],
      "metadata": {
        "id": "oDMPQPplsevy"
      }
    },
    {
      "cell_type": "code",
      "source": [
        "x = dataset['TV']\n",
        "y = dataset['Sales']"
      ],
      "metadata": {
        "id": "oXTo58zNsdA_"
      },
      "execution_count": null,
      "outputs": []
    },
    {
      "cell_type": "markdown",
      "source": [
        "now separate the dataset into trainig and testing data"
      ],
      "metadata": {
        "id": "RMC5zcLHtE4b"
      }
    },
    {
      "cell_type": "code",
      "source": [
        "from sklearn.model_selection import train_test_split\n",
        "x_train, x_test, y_train, y_test = train_test_split(x, y, train_size = 0.7, test_size = 0.3, random_state = 120)"
      ],
      "metadata": {
        "id": "G0J2eZGOtIA8"
      },
      "execution_count": null,
      "outputs": []
    },
    {
      "cell_type": "code",
      "source": [
        "print(x_train.head())\n",
        "print(y_train.head())"
      ],
      "metadata": {
        "id": "ODZoZ7v2tK1N"
      },
      "execution_count": null,
      "outputs": []
    },
    {
      "cell_type": "code",
      "source": [
        "# building a linear model using statsmodels.api library\n",
        "import statsmodels.api as sm\n"
      ],
      "metadata": {
        "id": "NHMOz-nqUnrP"
      },
      "execution_count": null,
      "outputs": []
    },
    {
      "cell_type": "code",
      "source": [
        "# get constant and the intercept\n",
        "x_train_sm = sm.add_constant(x_train)"
      ],
      "metadata": {
        "id": "Oii0yBAdUr-V"
      },
      "execution_count": null,
      "outputs": []
    },
    {
      "cell_type": "code",
      "source": [
        "# fit the regression line using OLS\n",
        "lr = sm.OLS(y_train, x_train_sm).fit()"
      ],
      "metadata": {
        "id": "L-dq0_-_Uuxu"
      },
      "execution_count": null,
      "outputs": []
    },
    {
      "cell_type": "code",
      "source": [
        "lr.params\n"
      ],
      "metadata": {
        "id": "rcbJB1DKUxS8"
      },
      "execution_count": null,
      "outputs": []
    },
    {
      "cell_type": "code",
      "source": [
        "print(lr.summary())\n"
      ],
      "metadata": {
        "id": "97janYSRU3UB"
      },
      "execution_count": null,
      "outputs": []
    },
    {
      "cell_type": "code",
      "source": [
        "plt.scatter(x_train, y_train)\n",
        "plt.plot(x_train, 6.57 + 0.058*x_train, 'r')\n",
        "plt.show()\n",
        "plt.figure(figsize=(20,20))"
      ],
      "metadata": {
        "id": "2THnV1HMU_lo"
      },
      "execution_count": null,
      "outputs": []
    },
    {
      "cell_type": "code",
      "source": [
        "y_train_pred = lr.predict(x_train_sm)\n",
        "res = (y_train - y_train_pred)"
      ],
      "metadata": {
        "id": "IttIe4_-VDa5"
      },
      "execution_count": null,
      "outputs": []
    },
    {
      "cell_type": "code",
      "source": [
        "fig = plt.figure()\n",
        "sns.distplot(res, bins = 15, color = 'green')\n",
        "fig.suptitle('Errors', fontsize = 15)\n",
        "plt.xlabel('y_train - y_train_pred', fontsize = 15)\n",
        "plt.show()"
      ],
      "metadata": {
        "id": "Ox1LK5r0VF99"
      },
      "execution_count": null,
      "outputs": []
    },
    {
      "cell_type": "code",
      "source": [
        "plt.scatter(x_train,res, c= 'red' )\n",
        "plt.show()"
      ],
      "metadata": {
        "id": "IBlsltm9VLac"
      },
      "execution_count": null,
      "outputs": []
    },
    {
      "cell_type": "code",
      "source": [
        "from sklearn.metrics import mean_squared_error\n",
        "from sklearn.metrics import r2_score"
      ],
      "metadata": {
        "id": "5JgDRdlcVOoF"
      },
      "execution_count": null,
      "outputs": []
    },
    {
      "cell_type": "code",
      "source": [
        "# returns rmse for test set\n",
        "np.sqrt(mean_squared_error(y_test, y_pred))"
      ],
      "metadata": {
        "id": "hk1NLpo0VRIK"
      },
      "execution_count": null,
      "outputs": []
    },
    {
      "cell_type": "code",
      "source": [
        "# visualizing the fit on the test set\n",
        "plt.scatter(x_test, y_test)\n",
        "plt.plot(x_test, 6.57 + 0.058 * x_test, 'r')\n",
        "plt.show()"
      ],
      "metadata": {
        "id": "_i7-dZmoVZJ4"
      },
      "execution_count": null,
      "outputs": []
    },
    {
      "cell_type": "code",
      "source": [
        "x_test_sm = sm.add_constant(x_test)\n",
        "\n",
        "# Predict the y values corresponding to x_test_sm\n",
        "y_pred = lr.predict(x_test_sm)"
      ],
      "metadata": {
        "id": "uq5leIpPVfCM"
      },
      "execution_count": null,
      "outputs": []
    },
    {
      "cell_type": "code",
      "source": [
        "y_pred.head()\n"
      ],
      "metadata": {
        "id": "MTLJsn3JVijX"
      },
      "execution_count": null,
      "outputs": []
    },
    {
      "cell_type": "markdown",
      "source": [
        "# **Thank You**"
      ],
      "metadata": {
        "id": "3IT8XD5-VmYr"
      }
    }
  ]
}